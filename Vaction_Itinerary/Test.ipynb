{
 "cells": [
  {
   "cell_type": "code",
   "execution_count": 1,
   "metadata": {},
   "outputs": [
    {
     "ename": "ImportError",
     "evalue": "cannot import name 'g_key' from 'config' (c:\\Users\\nkias\\OneDrive\\Desktop\\Data-Analyst\\Projects\\World_Weathr_Analysis\\Vaction_Itinerary\\config.py)",
     "output_type": "error",
     "traceback": [
      "\u001b[1;31m---------------------------------------------------------------------------\u001b[0m",
      "\u001b[1;31mImportError\u001b[0m                               Traceback (most recent call last)",
      "\u001b[1;32mc:\\Users\\nkias\\OneDrive\\Desktop\\Data-Analyst\\Projects\\World_Weathr_Analysis\\Vaction_Itinerary\\Test.ipynb Cell 1\u001b[0m in \u001b[0;36m<cell line: 7>\u001b[1;34m()\u001b[0m\n\u001b[0;32m      <a href='vscode-notebook-cell:/c%3A/Users/nkias/OneDrive/Desktop/Data-Analyst/Projects/World_Weathr_Analysis/Vaction_Itinerary/Test.ipynb#W0sZmlsZQ%3D%3D?line=3'>4</a>\u001b[0m \u001b[39mimport\u001b[39;00m \u001b[39mgmaps\u001b[39;00m\n\u001b[0;32m      <a href='vscode-notebook-cell:/c%3A/Users/nkias/OneDrive/Desktop/Data-Analyst/Projects/World_Weathr_Analysis/Vaction_Itinerary/Test.ipynb#W0sZmlsZQ%3D%3D?line=5'>6</a>\u001b[0m \u001b[39m# Import API key\u001b[39;00m\n\u001b[1;32m----> <a href='vscode-notebook-cell:/c%3A/Users/nkias/OneDrive/Desktop/Data-Analyst/Projects/World_Weathr_Analysis/Vaction_Itinerary/Test.ipynb#W0sZmlsZQ%3D%3D?line=6'>7</a>\u001b[0m \u001b[39mfrom\u001b[39;00m \u001b[39mconfig\u001b[39;00m \u001b[39mimport\u001b[39;00m g_key\n\u001b[0;32m     <a href='vscode-notebook-cell:/c%3A/Users/nkias/OneDrive/Desktop/Data-Analyst/Projects/World_Weathr_Analysis/Vaction_Itinerary/Test.ipynb#W0sZmlsZQ%3D%3D?line=10'>11</a>\u001b[0m \u001b[39m# Configure gmaps\u001b[39;00m\n\u001b[0;32m     <a href='vscode-notebook-cell:/c%3A/Users/nkias/OneDrive/Desktop/Data-Analyst/Projects/World_Weathr_Analysis/Vaction_Itinerary/Test.ipynb#W0sZmlsZQ%3D%3D?line=11'>12</a>\u001b[0m gmaps\u001b[39m.\u001b[39mconfigure(api_key\u001b[39m=\u001b[39mg_key)\n",
      "\u001b[1;31mImportError\u001b[0m: cannot import name 'g_key' from 'config' (c:\\Users\\nkias\\OneDrive\\Desktop\\Data-Analyst\\Projects\\World_Weathr_Analysis\\Vaction_Itinerary\\config.py)"
     ]
    }
   ],
   "source": [
    "\n",
    "# Dependencies and Setup\n",
    "import pandas as pd\n",
    "import requests\n",
    "import gmaps\n",
    "\n",
    "# Import API key\n",
    "from config import g_key\n",
    "\n",
    "\n",
    "\n",
    "# Configure gmaps\n",
    "gmaps.configure(api_key=g_key)\n",
    "\n",
    "\n",
    "\n",
    "# Read the WeatherPy_vacation.csv into a DataFrame\n",
    "file_path = \"../Vacation_Search/WeatherPy_vacation.csv\"\n",
    "vacation_df = pd.read_csv(file_path)\n",
    "\n",
    "# Display sample data\n",
    "vacation_df.head(10)\n",
    "\n",
    "# Review the formatting template\n",
    "info_box_template = \"\"\"\n",
    "\n",
    "Hotel Name\n",
    "{Hotel Name}\n",
    "\n",
    "City\n",
    "{City}\n",
    "Country\n",
    "{Country}\n",
    "Current Weather\n",
    "{Current Description} and {Max Temp} °F\n",
    "\n",
    "\n",
    "\"\"\"\n",
    "\n",
    "# Get the data from each row and add it to the formatting template and store the data in a list\n",
    "hotel_info = [info_box_template.format(**row) for index, row in vacation_df.iterrows()]\n",
    "\n",
    "# Get the latitude and longitude from each row and store in a new DataFrame.\n",
    "locations = vacation_df[[\"Lat\", \"Lng\"]]\n"
   ]
  }
 ],
 "metadata": {
  "kernelspec": {
   "display_name": "Python 3.8.13 ('PythonData')",
   "language": "python",
   "name": "python3"
  },
  "language_info": {
   "codemirror_mode": {
    "name": "ipython",
    "version": 3
   },
   "file_extension": ".py",
   "mimetype": "text/x-python",
   "name": "python",
   "nbconvert_exporter": "python",
   "pygments_lexer": "ipython3",
   "version": "3.8.13"
  },
  "orig_nbformat": 4,
  "vscode": {
   "interpreter": {
    "hash": "9dca81b4fd77f380722ca6367e3071345338eff0ec6ed4ce3652123f1b21f3d3"
   }
  }
 },
 "nbformat": 4,
 "nbformat_minor": 2
}
